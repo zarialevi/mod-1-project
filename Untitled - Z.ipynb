{
 "cells": [
  {
   "cell_type": "code",
   "execution_count": 1,
   "metadata": {},
   "outputs": [],
   "source": [
    "import matplotlib.pyplot as plt\n",
    "import numpy as np\n",
    "import pandas as pd\n",
    "import seaborn as sns\n",
    "import random\n",
    "%matplotlib inline"
   ]
  },
  {
   "cell_type": "code",
   "execution_count": 4,
   "metadata": {},
   "outputs": [],
   "source": [
    "df = pd.read_csv('kc_house_data.csv')"
   ]
  },
  {
   "cell_type": "code",
   "execution_count": 5,
   "metadata": {},
   "outputs": [],
   "source": [
    "df.dropna(subset=['view'], how='all', inplace=True)"
   ]
  },
  {
   "cell_type": "code",
   "execution_count": 6,
   "metadata": {},
   "outputs": [],
   "source": [
    "df.drop(columns='waterfront', axis=1, inplace= True)"
   ]
  },
  {
   "cell_type": "code",
   "execution_count": 7,
   "metadata": {},
   "outputs": [],
   "source": [
    "df['date'] = pd.to_datetime(df['date'])"
   ]
  },
  {
   "cell_type": "code",
   "execution_count": 10,
   "metadata": {},
   "outputs": [],
   "source": [
    "price_under_100k = df[df['price'] < 100000]\n",
    "price_under_100k = price_under_100k['price']\n",
    "\n",
    "price_100k_200k = df[(df['price'] > 100000 )& (df['price'] <= 200000)]\n",
    "price_100k_200k = price_100k_200k['price']\n",
    "\n",
    "price_200k_300k = df[(df['price'] > 150000 )& (df['price'] <= 200000)]\n",
    "price_200k_300k = price_200k_300k['price']\n",
    "\n",
    "price_300k_400k = df[(df['price'] > 200000 )& (df['price'] <= 250000)]\n",
    "price_300k_400k = price_300k_400k['price']\n",
    "\n",
    "price_400k_500k = df[(df['price'] > 200000 )& (df['price'] <= 250000)]\n",
    "price_400k_500k = price_400k_500k['price']\n",
    "\n",
    "sns.distplot(price_under_100k, bins=20, hist=True, kde=False, rug=False)\n",
    "sns.distplot(price_100k_200k, bins=20, hist=True, kde=False, rug=False)\n",
    "plt.show()\n"
   ]
  },
  {
   "cell_type": "code",
   "execution_count": 9,
   "metadata": {},
   "outputs": [],
   "source": [
    "sns.regplot(x=price_100k_200k, y=df['sqft_living'])\n",
    "plt.show()"
   ]
  },
  {
   "cell_type": "code",
   "execution_count": null,
   "metadata": {},
   "outputs": [],
   "source": [
    "sns.distplot(df['price'], bins=20, hist=True, kde=False, rug=True)"
   ]
  },
  {
   "cell_type": "code",
   "execution_count": null,
   "metadata": {},
   "outputs": [],
   "source": [
    "sns.distplot( df['sqft_lot'], rug = True, bins = 10000)\n",
    "plt.show()"
   ]
  }
 ],
 "metadata": {
  "kernelspec": {
   "display_name": "Python 3",
   "language": "python",
   "name": "python3"
  },
  "language_info": {
   "codemirror_mode": {
    "name": "ipython",
    "version": 3
   },
   "file_extension": ".py",
   "mimetype": "text/x-python",
   "name": "python",
   "nbconvert_exporter": "python",
   "pygments_lexer": "ipython3",
   "version": "3.7.3"
  }
 },
 "nbformat": 4,
 "nbformat_minor": 2
}
